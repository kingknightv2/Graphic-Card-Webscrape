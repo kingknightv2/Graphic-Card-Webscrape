{
 "cells": [
  {
   "cell_type": "code",
   "execution_count": 1,
   "metadata": {},
   "outputs": [],
   "source": [
    "from urllib.request import urlopen\n",
    "from bs4 import BeautifulSoup as bs4"
   ]
  },
  {
   "cell_type": "markdown",
   "metadata": {},
   "source": [
    "# Scrape Data"
   ]
  },
  {
   "cell_type": "code",
   "execution_count": 9,
   "metadata": {},
   "outputs": [],
   "source": [
    "url = 'https://www.newegg.com/p/pl?d=gpu&page={}'\n",
    "df = pd.DataFrame()\n",
    "\n",
    "#change range for more data\n",
    "for i in range(1,2):\n",
    "    temp = url.format(i)\n",
    "    request = urlopen(temp)\n",
    "    pageHtml = request.read()\n",
    "    request.close()\n",
    "\n",
    "    soup = bs4(pageHtml, 'html.parser')\n",
    "\n",
    "    gpu = soup.find_all('div', class_=\"item-container\")\n",
    "\n",
    "    for x in gpu:\n",
    "        title = x.find('a', class_=\"item-title\").text\n",
    "        price = x.find('li', class_=\"price-current\")\n",
    "        oPrice = price.find('strong')\n",
    "        ratingNum = x.find('span', class_=\"item-rating-num\")\n",
    "        rating = x.find('i', )\n",
    "        shipping = x.find('li', class_=\"price-ship\")\n",
    "        \n",
    "       \n",
    "        \n",
    "        \n",
    "        #replace no price values with none \n",
    "        if oPrice is not None:\n",
    "            oPrice = oPrice.text\n",
    "        else:\n",
    "            oPrice = None\n",
    "        # replace the none value with a none in amount of rating \n",
    "        if ratingNum is not None:\n",
    "            ratingNum = ratingNum.text\n",
    "            ratingNum = ratingNum.replace('(', '')\n",
    "            ratingNum = ratingNum.replace(')', '') \n",
    "        else:\n",
    "            ratingNum = None\n",
    "        # replace no shipping value with none as well\n",
    "        \n",
    "        df= df.append({'Price': oPrice,'Title': title, 'Shipping': shipping, 'RatingNum':ratingNum\n",
    "                       }, ignore_index=True  )\n",
    "\n",
    "#df.to_csv('GPU_info.csv')  \n",
    "    "
   ]
  }
 ],
 "metadata": {
  "kernelspec": {
   "display_name": "Python 3",
   "language": "python",
   "name": "python3"
  },
  "language_info": {
   "codemirror_mode": {
    "name": "ipython",
    "version": 3
   },
   "file_extension": ".py",
   "mimetype": "text/x-python",
   "name": "python",
   "nbconvert_exporter": "python",
   "pygments_lexer": "ipython3",
   "version": "3.8.5"
  }
 },
 "nbformat": 4,
 "nbformat_minor": 4
}
